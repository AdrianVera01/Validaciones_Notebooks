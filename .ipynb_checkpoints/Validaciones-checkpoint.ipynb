{
 "cells": [
  {
   "cell_type": "code",
   "execution_count": null,
   "id": "af2d2e17-a747-4f0c-bf8d-1acf0f7b4fbf",
   "metadata": {},
   "outputs": [],
   "source": [
    "%%html\n",
    "<style>\n",
    ".output_subarea.output_text.output_stream.output_stdout > pre {\n",
    "   white-space: pre;\n",
    "}\n",
    ".p-Widget.jp-RenderedText.jp-OutputArea-output > pre {\n",
    "   white-space: pre\n",
    "    ;\n",
    "}\n",
    "</style>"
   ]
  },
  {
   "cell_type": "code",
   "execution_count": null,
   "id": "77c5fa2a-e067-4fa1-879c-b605e6dfe423",
   "metadata": {},
   "outputs": [],
   "source": [
    "spark.conf.set(\"spark.sql.repl.eagerEval.enabled\", true)\n",
    "spark.conf.set(\"spark.sql.repl.eagerEval.maxNumRows\", 1000)"
   ]
  },
  {
   "cell_type": "code",
   "execution_count": null,
   "id": "a65757bf-86c9-4719-a672-f8d1a6965436",
   "metadata": {},
   "outputs": [],
   "source": [
    "import org.apache.spark.sql.functions._\n",
    "import org.apache.spark.sql.Column\n",
    "import org.apache.spark.sql.types.IntegerType\n",
    "import org.apache.spark.sql.types.DateType\n",
    "import org.apache.spark.sql.{Column, DataFrame, Row}\n",
    "import org.apache.spark.sql.expressions.Window\n",
    "import org.apache.hadoop.fs.{FileSystem, Path}\n",
    "import org.apache.spark.sql.catalyst.plans._\n",
    "import org.apache.spark.sql.SparkSession\n",
    "import java.time.LocalDate\n",
    "import java.time.temporal.TemporalAdjusters\n",
    "import java.time.LocalDate\n",
    "import java.time.format.DateTimeFormatter"
   ]
  },
  {
   "cell_type": "code",
   "execution_count": null,
   "id": "a1a14edf-5c48-46eb-9aeb-c439fe087e2a",
   "metadata": {},
   "outputs": [],
   "source": []
  }
 ],
 "metadata": {
  "kernelspec": {
   "display_name": "Python 3 (ipykernel)",
   "language": "python",
   "name": "python3"
  },
  "language_info": {
   "codemirror_mode": {
    "name": "ipython",
    "version": 3
   },
   "file_extension": ".py",
   "mimetype": "text/x-python",
   "name": "python",
   "nbconvert_exporter": "python",
   "pygments_lexer": "ipython3",
   "version": "3.8.10"
  }
 },
 "nbformat": 4,
 "nbformat_minor": 5
}
